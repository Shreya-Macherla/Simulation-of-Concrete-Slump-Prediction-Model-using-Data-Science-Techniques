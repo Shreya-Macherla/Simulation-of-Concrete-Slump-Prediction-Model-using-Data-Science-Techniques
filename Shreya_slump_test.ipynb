{
 "cells": [
  {
   "cell_type": "code",
   "execution_count": 1,
   "metadata": {
    "id": "ssp7rQf955a3"
   },
   "outputs": [],
   "source": [
    "import pandas as pd\n",
    "import matplotlib.pyplot as plt\n",
    "import numpy as np\n",
    "import seaborn as sns"
   ]
  },
  {
   "cell_type": "code",
   "execution_count": 6,
   "metadata": {
    "id": "UtmMQ-kn55a4"
   },
   "outputs": [
    {
     "ename": "FileNotFoundError",
     "evalue": "[Errno 2] No such file or directory: 'Users\\\\shreyamacherla\\\\Downloads\\\\CODE\\\\Data analysis\\\\Data set\\\\slump_test.data'",
     "output_type": "error",
     "traceback": [
      "\u001b[0;31m---------------------------------------------------------------------------\u001b[0m",
      "\u001b[0;31mFileNotFoundError\u001b[0m                         Traceback (most recent call last)",
      "\u001b[0;32m<ipython-input-6-3cc7f9e99826>\u001b[0m in \u001b[0;36m<module>\u001b[0;34m\u001b[0m\n\u001b[0;32m----> 1\u001b[0;31m \u001b[0mslump\u001b[0m \u001b[0;34m=\u001b[0m \u001b[0mpd\u001b[0m\u001b[0;34m.\u001b[0m\u001b[0mread_csv\u001b[0m\u001b[0;34m(\u001b[0m\u001b[0;34mr\"Users\\shreyamacherla\\Downloads\\CODE\\Data analysis\\Data set\\slump_test.data\"\u001b[0m\u001b[0;34m)\u001b[0m\u001b[0;34m\u001b[0m\u001b[0;34m\u001b[0m\u001b[0m\n\u001b[0m\u001b[1;32m      2\u001b[0m \u001b[0;31m#slump = pd.read_csv(\"slump_test.data\")\u001b[0m\u001b[0;34m\u001b[0m\u001b[0;34m\u001b[0m\u001b[0;34m\u001b[0m\u001b[0m\n",
      "\u001b[0;32m~/opt/anaconda3/lib/python3.8/site-packages/pandas/io/parsers.py\u001b[0m in \u001b[0;36mread_csv\u001b[0;34m(filepath_or_buffer, sep, delimiter, header, names, index_col, usecols, squeeze, prefix, mangle_dupe_cols, dtype, engine, converters, true_values, false_values, skipinitialspace, skiprows, skipfooter, nrows, na_values, keep_default_na, na_filter, verbose, skip_blank_lines, parse_dates, infer_datetime_format, keep_date_col, date_parser, dayfirst, cache_dates, iterator, chunksize, compression, thousands, decimal, lineterminator, quotechar, quoting, doublequote, escapechar, comment, encoding, dialect, error_bad_lines, warn_bad_lines, delim_whitespace, low_memory, memory_map, float_precision, storage_options)\u001b[0m\n\u001b[1;32m    608\u001b[0m     \u001b[0mkwds\u001b[0m\u001b[0;34m.\u001b[0m\u001b[0mupdate\u001b[0m\u001b[0;34m(\u001b[0m\u001b[0mkwds_defaults\u001b[0m\u001b[0;34m)\u001b[0m\u001b[0;34m\u001b[0m\u001b[0;34m\u001b[0m\u001b[0m\n\u001b[1;32m    609\u001b[0m \u001b[0;34m\u001b[0m\u001b[0m\n\u001b[0;32m--> 610\u001b[0;31m     \u001b[0;32mreturn\u001b[0m \u001b[0m_read\u001b[0m\u001b[0;34m(\u001b[0m\u001b[0mfilepath_or_buffer\u001b[0m\u001b[0;34m,\u001b[0m \u001b[0mkwds\u001b[0m\u001b[0;34m)\u001b[0m\u001b[0;34m\u001b[0m\u001b[0;34m\u001b[0m\u001b[0m\n\u001b[0m\u001b[1;32m    611\u001b[0m \u001b[0;34m\u001b[0m\u001b[0m\n\u001b[1;32m    612\u001b[0m \u001b[0;34m\u001b[0m\u001b[0m\n",
      "\u001b[0;32m~/opt/anaconda3/lib/python3.8/site-packages/pandas/io/parsers.py\u001b[0m in \u001b[0;36m_read\u001b[0;34m(filepath_or_buffer, kwds)\u001b[0m\n\u001b[1;32m    460\u001b[0m \u001b[0;34m\u001b[0m\u001b[0m\n\u001b[1;32m    461\u001b[0m     \u001b[0;31m# Create the parser.\u001b[0m\u001b[0;34m\u001b[0m\u001b[0;34m\u001b[0m\u001b[0;34m\u001b[0m\u001b[0m\n\u001b[0;32m--> 462\u001b[0;31m     \u001b[0mparser\u001b[0m \u001b[0;34m=\u001b[0m \u001b[0mTextFileReader\u001b[0m\u001b[0;34m(\u001b[0m\u001b[0mfilepath_or_buffer\u001b[0m\u001b[0;34m,\u001b[0m \u001b[0;34m**\u001b[0m\u001b[0mkwds\u001b[0m\u001b[0;34m)\u001b[0m\u001b[0;34m\u001b[0m\u001b[0;34m\u001b[0m\u001b[0m\n\u001b[0m\u001b[1;32m    463\u001b[0m \u001b[0;34m\u001b[0m\u001b[0m\n\u001b[1;32m    464\u001b[0m     \u001b[0;32mif\u001b[0m \u001b[0mchunksize\u001b[0m \u001b[0;32mor\u001b[0m \u001b[0miterator\u001b[0m\u001b[0;34m:\u001b[0m\u001b[0;34m\u001b[0m\u001b[0;34m\u001b[0m\u001b[0m\n",
      "\u001b[0;32m~/opt/anaconda3/lib/python3.8/site-packages/pandas/io/parsers.py\u001b[0m in \u001b[0;36m__init__\u001b[0;34m(self, f, engine, **kwds)\u001b[0m\n\u001b[1;32m    817\u001b[0m             \u001b[0mself\u001b[0m\u001b[0;34m.\u001b[0m\u001b[0moptions\u001b[0m\u001b[0;34m[\u001b[0m\u001b[0;34m\"has_index_names\"\u001b[0m\u001b[0;34m]\u001b[0m \u001b[0;34m=\u001b[0m \u001b[0mkwds\u001b[0m\u001b[0;34m[\u001b[0m\u001b[0;34m\"has_index_names\"\u001b[0m\u001b[0;34m]\u001b[0m\u001b[0;34m\u001b[0m\u001b[0;34m\u001b[0m\u001b[0m\n\u001b[1;32m    818\u001b[0m \u001b[0;34m\u001b[0m\u001b[0m\n\u001b[0;32m--> 819\u001b[0;31m         \u001b[0mself\u001b[0m\u001b[0;34m.\u001b[0m\u001b[0m_engine\u001b[0m \u001b[0;34m=\u001b[0m \u001b[0mself\u001b[0m\u001b[0;34m.\u001b[0m\u001b[0m_make_engine\u001b[0m\u001b[0;34m(\u001b[0m\u001b[0mself\u001b[0m\u001b[0;34m.\u001b[0m\u001b[0mengine\u001b[0m\u001b[0;34m)\u001b[0m\u001b[0;34m\u001b[0m\u001b[0;34m\u001b[0m\u001b[0m\n\u001b[0m\u001b[1;32m    820\u001b[0m \u001b[0;34m\u001b[0m\u001b[0m\n\u001b[1;32m    821\u001b[0m     \u001b[0;32mdef\u001b[0m \u001b[0mclose\u001b[0m\u001b[0;34m(\u001b[0m\u001b[0mself\u001b[0m\u001b[0;34m)\u001b[0m\u001b[0;34m:\u001b[0m\u001b[0;34m\u001b[0m\u001b[0;34m\u001b[0m\u001b[0m\n",
      "\u001b[0;32m~/opt/anaconda3/lib/python3.8/site-packages/pandas/io/parsers.py\u001b[0m in \u001b[0;36m_make_engine\u001b[0;34m(self, engine)\u001b[0m\n\u001b[1;32m   1048\u001b[0m             )\n\u001b[1;32m   1049\u001b[0m         \u001b[0;31m# error: Too many arguments for \"ParserBase\"\u001b[0m\u001b[0;34m\u001b[0m\u001b[0;34m\u001b[0m\u001b[0;34m\u001b[0m\u001b[0m\n\u001b[0;32m-> 1050\u001b[0;31m         \u001b[0;32mreturn\u001b[0m \u001b[0mmapping\u001b[0m\u001b[0;34m[\u001b[0m\u001b[0mengine\u001b[0m\u001b[0;34m]\u001b[0m\u001b[0;34m(\u001b[0m\u001b[0mself\u001b[0m\u001b[0;34m.\u001b[0m\u001b[0mf\u001b[0m\u001b[0;34m,\u001b[0m \u001b[0;34m**\u001b[0m\u001b[0mself\u001b[0m\u001b[0;34m.\u001b[0m\u001b[0moptions\u001b[0m\u001b[0;34m)\u001b[0m  \u001b[0;31m# type: ignore[call-arg]\u001b[0m\u001b[0;34m\u001b[0m\u001b[0;34m\u001b[0m\u001b[0m\n\u001b[0m\u001b[1;32m   1051\u001b[0m \u001b[0;34m\u001b[0m\u001b[0m\n\u001b[1;32m   1052\u001b[0m     \u001b[0;32mdef\u001b[0m \u001b[0m_failover_to_python\u001b[0m\u001b[0;34m(\u001b[0m\u001b[0mself\u001b[0m\u001b[0;34m)\u001b[0m\u001b[0;34m:\u001b[0m\u001b[0;34m\u001b[0m\u001b[0;34m\u001b[0m\u001b[0m\n",
      "\u001b[0;32m~/opt/anaconda3/lib/python3.8/site-packages/pandas/io/parsers.py\u001b[0m in \u001b[0;36m__init__\u001b[0;34m(self, src, **kwds)\u001b[0m\n\u001b[1;32m   1865\u001b[0m \u001b[0;34m\u001b[0m\u001b[0m\n\u001b[1;32m   1866\u001b[0m         \u001b[0;31m# open handles\u001b[0m\u001b[0;34m\u001b[0m\u001b[0;34m\u001b[0m\u001b[0;34m\u001b[0m\u001b[0m\n\u001b[0;32m-> 1867\u001b[0;31m         \u001b[0mself\u001b[0m\u001b[0;34m.\u001b[0m\u001b[0m_open_handles\u001b[0m\u001b[0;34m(\u001b[0m\u001b[0msrc\u001b[0m\u001b[0;34m,\u001b[0m \u001b[0mkwds\u001b[0m\u001b[0;34m)\u001b[0m\u001b[0;34m\u001b[0m\u001b[0;34m\u001b[0m\u001b[0m\n\u001b[0m\u001b[1;32m   1868\u001b[0m         \u001b[0;32massert\u001b[0m \u001b[0mself\u001b[0m\u001b[0;34m.\u001b[0m\u001b[0mhandles\u001b[0m \u001b[0;32mis\u001b[0m \u001b[0;32mnot\u001b[0m \u001b[0;32mNone\u001b[0m\u001b[0;34m\u001b[0m\u001b[0;34m\u001b[0m\u001b[0m\n\u001b[1;32m   1869\u001b[0m         \u001b[0;32mfor\u001b[0m \u001b[0mkey\u001b[0m \u001b[0;32min\u001b[0m \u001b[0;34m(\u001b[0m\u001b[0;34m\"storage_options\"\u001b[0m\u001b[0;34m,\u001b[0m \u001b[0;34m\"encoding\"\u001b[0m\u001b[0;34m,\u001b[0m \u001b[0;34m\"memory_map\"\u001b[0m\u001b[0;34m,\u001b[0m \u001b[0;34m\"compression\"\u001b[0m\u001b[0;34m)\u001b[0m\u001b[0;34m:\u001b[0m\u001b[0;34m\u001b[0m\u001b[0;34m\u001b[0m\u001b[0m\n",
      "\u001b[0;32m~/opt/anaconda3/lib/python3.8/site-packages/pandas/io/parsers.py\u001b[0m in \u001b[0;36m_open_handles\u001b[0;34m(self, src, kwds)\u001b[0m\n\u001b[1;32m   1360\u001b[0m         \u001b[0mLet\u001b[0m \u001b[0mthe\u001b[0m \u001b[0mreaders\u001b[0m \u001b[0mopen\u001b[0m \u001b[0mIOHanldes\u001b[0m \u001b[0mafter\u001b[0m \u001b[0mthey\u001b[0m \u001b[0mare\u001b[0m \u001b[0mdone\u001b[0m \u001b[0;32mwith\u001b[0m \u001b[0mtheir\u001b[0m \u001b[0mpotential\u001b[0m \u001b[0mraises\u001b[0m\u001b[0;34m.\u001b[0m\u001b[0;34m\u001b[0m\u001b[0;34m\u001b[0m\u001b[0m\n\u001b[1;32m   1361\u001b[0m         \"\"\"\n\u001b[0;32m-> 1362\u001b[0;31m         self.handles = get_handle(\n\u001b[0m\u001b[1;32m   1363\u001b[0m             \u001b[0msrc\u001b[0m\u001b[0;34m,\u001b[0m\u001b[0;34m\u001b[0m\u001b[0;34m\u001b[0m\u001b[0m\n\u001b[1;32m   1364\u001b[0m             \u001b[0;34m\"r\"\u001b[0m\u001b[0;34m,\u001b[0m\u001b[0;34m\u001b[0m\u001b[0;34m\u001b[0m\u001b[0m\n",
      "\u001b[0;32m~/opt/anaconda3/lib/python3.8/site-packages/pandas/io/common.py\u001b[0m in \u001b[0;36mget_handle\u001b[0;34m(path_or_buf, mode, encoding, compression, memory_map, is_text, errors, storage_options)\u001b[0m\n\u001b[1;32m    640\u001b[0m                 \u001b[0merrors\u001b[0m \u001b[0;34m=\u001b[0m \u001b[0;34m\"replace\"\u001b[0m\u001b[0;34m\u001b[0m\u001b[0;34m\u001b[0m\u001b[0m\n\u001b[1;32m    641\u001b[0m             \u001b[0;31m# Encoding\u001b[0m\u001b[0;34m\u001b[0m\u001b[0;34m\u001b[0m\u001b[0;34m\u001b[0m\u001b[0m\n\u001b[0;32m--> 642\u001b[0;31m             handle = open(\n\u001b[0m\u001b[1;32m    643\u001b[0m                 \u001b[0mhandle\u001b[0m\u001b[0;34m,\u001b[0m\u001b[0;34m\u001b[0m\u001b[0;34m\u001b[0m\u001b[0m\n\u001b[1;32m    644\u001b[0m                 \u001b[0mioargs\u001b[0m\u001b[0;34m.\u001b[0m\u001b[0mmode\u001b[0m\u001b[0;34m,\u001b[0m\u001b[0;34m\u001b[0m\u001b[0;34m\u001b[0m\u001b[0m\n",
      "\u001b[0;31mFileNotFoundError\u001b[0m: [Errno 2] No such file or directory: 'Users\\\\shreyamacherla\\\\Downloads\\\\CODE\\\\Data analysis\\\\Data set\\\\slump_test.data'"
     ]
    }
   ],
   "source": [
    "slump = pd.read_csv(r\"Users\\shreyamacherla\\Downloads\\CODE\\Data analysis\\Data set\\slump_test.data\")\n",
    "#slump = pd.read_csv(\"slump_test.data\")"
   ]
  },
  {
   "cell_type": "code",
   "execution_count": null,
   "metadata": {
    "id": "YwYYfGl4YN8A"
   },
   "outputs": [],
   "source": [
    "#drive.mount('/content/drive')"
   ]
  },
  {
   "cell_type": "markdown",
   "metadata": {
    "id": "YLdpaHth7AOu"
   },
   "source": [
    "# New Section"
   ]
  },
  {
   "cell_type": "code",
   "execution_count": null,
   "metadata": {
    "colab": {
     "base_uri": "https://localhost:8080/",
     "height": 433
    },
    "id": "AwVNAY0e55a5",
    "outputId": "12c05514-d1f6-45f2-df1a-16cd461ed3cd"
   },
   "outputs": [],
   "source": [
    "slump"
   ]
  },
  {
   "cell_type": "code",
   "execution_count": null,
   "metadata": {
    "colab": {
     "base_uri": "https://localhost:8080/"
    },
    "id": "0fDow2Od55a6",
    "outputId": "b030425e-9241-4c6c-f351-a975ae4ad3dd"
   },
   "outputs": [],
   "source": [
    "slump.info()\n",
    "print(slump.columns)\n",
    "print(slump.index)\n",
    "print(slump.values)"
   ]
  },
  {
   "cell_type": "code",
   "execution_count": null,
   "metadata": {
    "colab": {
     "base_uri": "https://localhost:8080/",
     "height": 433
    },
    "id": "v8jUVUVE55a6",
    "outputId": "eca17272-97e1-4378-aeb4-db4075a7aae6"
   },
   "outputs": [],
   "source": [
    "# Data Cleaning\n",
    "slump.isnull()"
   ]
  },
  {
   "cell_type": "code",
   "execution_count": null,
   "metadata": {
    "colab": {
     "base_uri": "https://localhost:8080/"
    },
    "id": "cy1GGxFv55a7",
    "outputId": "f2263b39-72f7-4cd9-e3a8-e2145528b4d0"
   },
   "outputs": [],
   "source": [
    "# checked for null values\n",
    "slump.isnull().sum()"
   ]
  },
  {
   "cell_type": "code",
   "execution_count": null,
   "metadata": {
    "colab": {
     "base_uri": "https://localhost:8080/",
     "height": 366
    },
    "id": "NtNH2wPq55a7",
    "outputId": "035f84aa-2550-4ec2-d0b2-06c7d70d8c2b"
   },
   "outputs": [],
   "source": [
    "slump.describe()"
   ]
  },
  {
   "cell_type": "code",
   "execution_count": null,
   "metadata": {
    "id": "YSxiKe_q55a7"
   },
   "outputs": [],
   "source": [
    "slump_demo = slump.copy()"
   ]
  },
  {
   "cell_type": "code",
   "execution_count": null,
   "metadata": {
    "colab": {
     "base_uri": "https://localhost:8080/",
     "height": 433
    },
    "id": "d82hRBoi55a8",
    "outputId": "cfa8acd5-79b5-48e1-aa74-3b945ff0c556"
   },
   "outputs": [],
   "source": [
    "slump = slump.dropna(axis=0)\n",
    "slump"
   ]
  },
  {
   "cell_type": "code",
   "execution_count": null,
   "metadata": {
    "id": "iL-SDzVz55a8"
   },
   "outputs": [],
   "source": [
    "#slump.isalpa()\n",
    "#slump.isalnum()\n",
    "#slump['X_isalphanumeric'] = map(lambda x: x.isalnum(), slump['X'])\n",
    "#slump['Cement_isalphanumeric'] = map(lambda x: x.isalnum(), slump['Cement'])\n",
    "\n",
    "#print (slump)"
   ]
  },
  {
   "cell_type": "code",
   "execution_count": null,
   "metadata": {
    "colab": {
     "base_uri": "https://localhost:8080/"
    },
    "id": "9XwVr9uK55a8",
    "outputId": "78d05912-d138-438a-9c01-b8e14d3f8443"
   },
   "outputs": [],
   "source": [
    "slump.shape"
   ]
  },
  {
   "cell_type": "code",
   "execution_count": null,
   "metadata": {
    "colab": {
     "base_uri": "https://localhost:8080/"
    },
    "id": "9LjX5PiO55a8",
    "outputId": "f394c015-9a20-4d7e-90cb-b49f9a25d9b9"
   },
   "outputs": [],
   "source": [
    "slump.drop('No', inplace=True, axis=1)\n",
    "slump.shape"
   ]
  },
  {
   "cell_type": "code",
   "execution_count": null,
   "metadata": {
    "colab": {
     "base_uri": "https://localhost:8080/",
     "height": 945
    },
    "id": "cF1TUxNY55a9",
    "outputId": "47e8b9e8-d4d0-45e7-90c5-17ccfb90779e"
   },
   "outputs": [],
   "source": [
    "print (slump.describe())\n",
    "slump.boxplot()\n",
    "slump.hist()"
   ]
  },
  {
   "cell_type": "code",
   "execution_count": null,
   "metadata": {
    "colab": {
     "base_uri": "https://localhost:8080/",
     "height": 893
    },
    "id": "wK54JSov55a9",
    "outputId": "27527011-7f05-4aed-a824-56d7b6ed5746"
   },
   "outputs": [],
   "source": [
    "# Data Exploration\n",
    "sns.pairplot(slump)\n"
   ]
  },
  {
   "cell_type": "code",
   "execution_count": null,
   "metadata": {
    "colab": {
     "base_uri": "https://localhost:8080/",
     "height": 461
    },
    "id": "oAxJcXhe55a9",
    "outputId": "f183fe5a-d588-41b6-b344-b26b45b68b7b"
   },
   "outputs": [],
   "source": [
    "#corr = slump.corr() sns.heatmap(corr, annot=True, cmap='Blues')\n",
    "sns.heatmap(slump.corr(), annot=True, cmap='Blues')\n"
   ]
  },
  {
   "cell_type": "code",
   "execution_count": null,
   "metadata": {
    "colab": {
     "base_uri": "https://localhost:8080/",
     "height": 633
    },
    "id": "4zjrLGxD55a-",
    "outputId": "579402b1-0403-453b-8125-0259790ebe65"
   },
   "outputs": [],
   "source": [
    "# Data Exploration\n",
    "print(slump.corr())\n",
    "correlationMatrix=slump.corr(method='spearman')\n",
    "ax = sns.heatmap(correlationMatrix, vmin=-1, vmax=1, center=0, cmap=sns.diverging_palette(0, 250, n=50), square=True)\n",
    "ax.set_xticklabels(ax.get_xticklabels(), rotation=50, horizontalalignment='right');"
   ]
  },
  {
   "cell_type": "code",
   "execution_count": null,
   "metadata": {
    "id": "iXQMLWYF55a-"
   },
   "outputs": [],
   "source": [
    "input_variables = ['Cement','Slag','Fly ash','Water','SP','Coarse Aggr.','Fine Aggr.']\n",
    "output_variables = ['SLUMP(cm)','FLOW(cm)','Compressive Strength (28-day)(Mpa)']\n",
    "X = slump[input_variables]\n",
    "Y = slump[output_variables]"
   ]
  },
  {
   "cell_type": "code",
   "execution_count": null,
   "metadata": {
    "colab": {
     "base_uri": "https://localhost:8080/",
     "height": 294
    },
    "id": "w-S_Jke555a-",
    "outputId": "ead82809-ba0e-46d3-82db-690d3f059cc0"
   },
   "outputs": [],
   "source": [
    "X.describe()"
   ]
  },
  {
   "cell_type": "code",
   "execution_count": null,
   "metadata": {
    "colab": {
     "base_uri": "https://localhost:8080/",
     "height": 294
    },
    "id": "YIBceEXG55a-",
    "outputId": "b56320c7-0bb0-486c-8bb3-5d0c73abce4e"
   },
   "outputs": [],
   "source": [
    "Y.describe()"
   ]
  },
  {
   "cell_type": "code",
   "execution_count": null,
   "metadata": {
    "colab": {
     "base_uri": "https://localhost:8080/"
    },
    "id": "6kNfdeQ055a_",
    "outputId": "2b659bf5-0d41-486a-f5cf-e44bf410548f",
    "scrolled": true
   },
   "outputs": [],
   "source": [
    "X_numpy = np.array(X)\n",
    "Y_numpy=np.array(Y)\n",
    "\n",
    "print(type(X_numpy))\n",
    "print(type(Y_numpy))"
   ]
  },
  {
   "cell_type": "code",
   "execution_count": null,
   "metadata": {
    "id": "7PL2aJKl55a_"
   },
   "outputs": [],
   "source": [
    "# Data Splitting\n",
    "from sklearn.model_selection import train_test_split\n",
    "X_train, X_test, Y_train, Y_test = train_test_split(X_numpy, Y_numpy, test_size=0.2, random_state=1)"
   ]
  },
  {
   "cell_type": "markdown",
   "metadata": {
    "id": "6DCmOTs0xg3z"
   },
   "source": [
    "## Linear Regression Model"
   ]
  },
  {
   "cell_type": "code",
   "execution_count": null,
   "metadata": {
    "colab": {
     "base_uri": "https://localhost:8080/"
    },
    "id": "mKBnwfSH55a_",
    "outputId": "8e4365c0-c634-4dbb-af73-27a79b924a56"
   },
   "outputs": [],
   "source": [
    "from sklearn.linear_model import LinearRegression\n",
    "from sklearn.metrics import mean_squared_error, mean_absolute_error, r2_score \n",
    "lrm_slump = LinearRegression(normalize=True,)\n",
    "lrm_slump.fit(X_train, Y_train)\n"
   ]
  },
  {
   "cell_type": "code",
   "execution_count": null,
   "metadata": {
    "colab": {
     "base_uri": "https://localhost:8080/"
    },
    "id": "mWhqCKvBm61D",
    "outputId": "bf4a8df0-03d7-44c1-ab05-836ef77dfb09"
   },
   "outputs": [],
   "source": [
    "lrm_slump.coef_"
   ]
  },
  {
   "cell_type": "code",
   "execution_count": null,
   "metadata": {
    "colab": {
     "base_uri": "https://localhost:8080/"
    },
    "id": "GJHJLQMQnYE4",
    "outputId": "81c52b70-4c8b-4c46-a8a7-a15b9419d056"
   },
   "outputs": [],
   "source": [
    "y_pred = lrm_slump.predict(X_test)\n",
    "#print(f'The R2 score is: {r2_score(Y_test, y_pred)}')\n",
    "#print(f'The RMSE score is {rmse(Y_test, y_pred)}')\n",
    "print(\"Making predictions for the following in train set:\")\n",
    "predicted_values=lrm_slump.predict(X_train[0:4,:])\n",
    "true_values=Y_train[0:4]\n",
    "print(\"True values are \",true_values)\n",
    "print(\"The predicted values are\", predicted_values)\n",
    "print(\"Diff\", predicted_values-true_values)\n",
    "\n",
    "\n",
    "print(\"Making predictions for the following in testing set:\")\n",
    "predicted_values=lrm_slump.predict(X_test[0:4,:])\n",
    "true_values=Y_test[0:4]\n",
    "print(\"True values are \",true_values)\n",
    "print(\"The predicted values are\", predicted_values)\n",
    "print(\"Diff\", predicted_values-true_values)"
   ]
  },
  {
   "cell_type": "code",
   "execution_count": null,
   "metadata": {
    "colab": {
     "base_uri": "https://localhost:8080/"
    },
    "id": "0cD4vEEH0jP5",
    "outputId": "42196dd1-26bc-47fb-884b-8446f0aaf86d"
   },
   "outputs": [],
   "source": [
    "print(\"Model\\t\\t\\t RMSE \\t\\t R2\") \n",
    "print(\"\"\"LinearRegression \\t {:.2f} \\t\\t{:.2f}\"\"\".format(  np.sqrt(mean_squared_error(Y_test, y_pred)), r2_score(Y_test, y_pred))) "
   ]
  },
  {
   "cell_type": "markdown",
   "metadata": {
    "id": "_a6XpR8PxPxn"
   },
   "source": [
    "# Decision Tree Regression Model"
   ]
  },
  {
   "cell_type": "code",
   "execution_count": null,
   "metadata": {
    "colab": {
     "base_uri": "https://localhost:8080/"
    },
    "id": "lc6HvjHd55bA",
    "outputId": "dd692936-1294-44d3-da83-5536222026e8"
   },
   "outputs": [],
   "source": [
    "from sklearn.tree import DecisionTreeRegressor\n",
    "from sklearn.metrics import mean_squared_error, mean_absolute_error, r2_score \n",
    "dt_model = DecisionTreeRegressor(random_state=1, splitter='best', max_depth=8, max_features=7, min_samples_leaf=2)\n",
    "dt_model.fit(X_train, Y_train)\n",
    "y_pred_dt = dt_model.predict(X_test) \n",
    "print(X.head())\n",
    "print(\"The predictions are\")\n",
    "print(dt_model.predict(X.head()))"
   ]
  },
  {
   "cell_type": "code",
   "execution_count": null,
   "metadata": {
    "colab": {
     "base_uri": "https://localhost:8080/"
    },
    "id": "OsRJr1tD0Ib_",
    "outputId": "1b804818-a2e4-4d60-e8c1-2560e464a40d"
   },
   "outputs": [],
   "source": [
    "print(\"Making predictions for the following in train set:\")\n",
    "predicted_values=dt_model.predict(X_train[0:4,:])\n",
    "true_values=Y_train[0:4]\n",
    "print(\"True values are \",true_values)\n",
    "print(\"The predicted values are\", predicted_values)\n",
    "print(\"Diff\", predicted_values-true_values)\n",
    "\n",
    "\n",
    "print(\"Making predictions for the following in testing set:\")\n",
    "predicted_values=dt_model.predict(X_test[0:4,:])\n",
    "true_values=Y_test[0:4]\n",
    "print(\"True values are \",true_values)\n",
    "print(\"The predicted values are\", predicted_values)\n",
    "print(\"Diff\", predicted_values-true_values)\n"
   ]
  },
  {
   "cell_type": "code",
   "execution_count": null,
   "metadata": {
    "colab": {
     "base_uri": "https://localhost:8080/"
    },
    "id": "kHQZCBDkYBdg",
    "outputId": "2ee3057d-5927-4001-a9db-d10ea34ab273"
   },
   "outputs": [],
   "source": [
    "# Average training error\n",
    "dfTrain=Y_train-dt_model.predict(X_train)\n",
    "print(\"Average Train error \", np.absolute(dfTrain).mean())\n",
    "\n",
    "# Average test error\n",
    "dfTest=Y_test-dt_model.predict(X_test)\n",
    "print(\"Average test error \", np.absolute(dfTest).mean())"
   ]
  },
  {
   "cell_type": "code",
   "execution_count": null,
   "metadata": {
    "colab": {
     "base_uri": "https://localhost:8080/"
    },
    "id": "mCMhajy7wrT_",
    "outputId": "adbe24c1-5bff-4a49-8a89-7fd2102a2ac2"
   },
   "outputs": [],
   "source": [
    "print(\"Model\\t\\t\\t\\t RMSE \\t\\t R2\") \n",
    "print(\"\"\"Decision Tree Regressor \\t {:.2f} \\t\\t{:.2f}\"\"\".format( np.sqrt(mean_squared_error(Y_test, y_pred_dt)), r2_score(Y_test, y_pred_dt))) "
   ]
  },
  {
   "cell_type": "markdown",
   "metadata": {
    "id": "cwBi1mr1yDcQ"
   },
   "source": [
    "## Random Forest Regression Model"
   ]
  },
  {
   "cell_type": "code",
   "execution_count": null,
   "metadata": {
    "colab": {
     "base_uri": "https://localhost:8080/"
    },
    "id": "BxE5u2gm55bA",
    "outputId": "f647f82c-2181-438d-e83b-b9a0584299b5"
   },
   "outputs": [],
   "source": [
    "from sklearn.tree import DecisionTreeRegressor\n",
    "from sklearn.ensemble import RandomForestRegressor\n",
    "\n",
    "num_trees=10\n",
    "rf_model = RandomForestRegressor(random_state=1, max_depth=30, max_samples=82, max_features=7, n_estimators=8)\n",
    "\n",
    "#Fit RandomForestRegressor model\n",
    "rf_model.fit(X_train, Y_train)\n",
    "y_pred_rfr = rf_model.predict(X_test) \n",
    "\n",
    "\n",
    "print(\"Making predictions for the following in train set:\")\n",
    "predicted_values=rf_model.predict(X_train[0:4,:])\n",
    "true_values=Y_train[0:4]\n",
    "print(\"True values are \",true_values)\n",
    "print(\"The predicted values are\", predicted_values)\n",
    "print(\"Diff\", predicted_values-true_values)\n",
    "\n",
    "\n",
    "print(\"Making predictions for the following in testing set:\")\n",
    "predicted_values=rf_model.predict(X_test[0:4,:])\n",
    "true_values=Y_test[0:4]\n",
    "print(\"True values are \",true_values)\n",
    "print(\"The predicted values are\", predicted_values)\n",
    "print(\"Diff\", predicted_values-true_values)\n",
    "\n",
    "# Average training error\n",
    "dfTrain=Y_train-rf_model.predict(X_train)\n",
    "print(\"Average Train error \", np.absolute(dfTrain).mean())\n",
    "\n",
    "# Average test error\n",
    "dfTest=Y_test-rf_model.predict(X_test)\n",
    "print(\"Average test error \", np.absolute(dfTest).mean())"
   ]
  },
  {
   "cell_type": "code",
   "execution_count": null,
   "metadata": {
    "colab": {
     "base_uri": "https://localhost:8080/"
    },
    "id": "6SAoVm-9ABIe",
    "outputId": "265549f7-2ecf-46ad-8254-bb73763930b4"
   },
   "outputs": [],
   "source": [
    "print(\"Model\\t\\t\\t\\t RMSE \\t\\t R2\") \n",
    "print(\"\"\"Random Forest Regressor \\t {:.2f} \\t\\t{:.2f}\"\"\".format( np.sqrt(mean_squared_error(Y_test, y_pred_rfr)), r2_score(Y_test, y_pred_rfr))) \n"
   ]
  },
  {
   "cell_type": "code",
   "execution_count": null,
   "metadata": {
    "colab": {
     "base_uri": "https://localhost:8080/",
     "height": 467
    },
    "id": "ZixPf_2kOp1U",
    "outputId": "f20bc3dd-ca19-4759-f17f-25408b5a623e"
   },
   "outputs": [],
   "source": [
    "from sklearn.model_selection import RandomizedSearchCV \n",
    "from sklearn.preprocessing import StandardScaler \n",
    "from sklearn.model_selection import GridSearchCV\n",
    "param_grid = {\n",
    " \"n_estimators\": [5,10,20], \"max_depth\": [4, 5, 6, 7, 8, 9,],\n",
    " \"max_samples\": [50, 60,70],\n",
    " \"max_features\": [4, 5, 6, 7],\n",
    " \"criterion\": [\"gini\", \"entropy\"]\n",
    "}\n",
    "num_trees=5\n",
    "rf_model = RandomForestRegressor(random_state=1, max_depth= 8, max_samples=300, \n",
    "max_features=6, n_estimators=num_trees)\n",
    "#rf_model = RandomForestClassifier(random_state=1, max_depth= 12, max_samples=300, \n",
    "#max_features=7, n_estimators=num_trees)\n",
    "#rf_model = RandomForestClassifier()\n",
    "# set gridsearch\n",
    "#njob=-1 means use all the cores for parallel processing\n",
    "gridSearchCV = GridSearchCV(\n",
    " estimator=rf_model, param_grid=param_grid, cv=5, verbose=1, n_jobs=-1)\n",
    "gridSearchCVResults = gridSearchCV.fit(X_train, Y_train)\n",
    "print(f\"Best score = {gridSearchCVResults.best_score_}, Best Hyperparameters = {gridSearchCVResults.best_params_}\")\n"
   ]
  }
 ],
 "metadata": {
  "colab": {
   "collapsed_sections": [],
   "name": "Shreya_slump_test.ipynb",
   "provenance": []
  },
  "kernelspec": {
   "display_name": "Python 3",
   "language": "python",
   "name": "python3"
  },
  "language_info": {
   "codemirror_mode": {
    "name": "ipython",
    "version": 3
   },
   "file_extension": ".py",
   "mimetype": "text/x-python",
   "name": "python",
   "nbconvert_exporter": "python",
   "pygments_lexer": "ipython3",
   "version": "3.8.8"
  }
 },
 "nbformat": 4,
 "nbformat_minor": 1
}
